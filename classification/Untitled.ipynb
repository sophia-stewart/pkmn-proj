{
 "cells": [
  {
   "cell_type": "markdown",
   "id": "d99caf39",
   "metadata": {},
   "source": [
    "# Pokemon Classification\n",
    "---\n",
    "\n",
    "Data Source: https://www.kaggle.com/datasets/mariotormo/complete-pokemon-dataset-updated-090420?select=pokedex_%28Update_04.21%29.csv\n",
    "\n",
    "CSV file: pokedex_(Update_04.21).csv\n",
    "\n",
    "## From Kaggle: \n",
    "\n",
    "### About this file\n",
    "This file contains information about 1045 pokemon (including varieties). The information is sorted in different groups:\n",
    "\n",
    "#### Pokedex Data:\n",
    "\n",
    "- `pokedex_number`: The entry number of the Pokemon in the National Pokedex\n",
    "- `name`: The English name of the Pokemon\n",
    "- `german_name`: The German name of the Pokemon\n",
    "- `japanese_name`: The Original Japanese name of the Pokemon\n",
    "- `generation`: The numbered generation which the Pokemon was first introduced\n",
    "- `issublegendary`: Denotes if the Pokemon is sub-legendary\n",
    "- `is_legendary`: Denotes if the Pokemon is legendary\n",
    "- `is_mythical`: Denotes if the Pokemon is mythical\n",
    "- `species`: The Categorie of the Pokemon\n",
    "- `type_number`: Number of types that the Pokemon has\n",
    "- `type_1`: The Primary Type of the Pokemon\n",
    "- `type_2`: The Secondary Type of the Pokemon if it has it\n",
    "- `height_m`: Height of the Pokemon in meters\n",
    "- `weight_kg`: The Weight of the Pokemon in kilograms\n",
    "- `abilities_number`: The number of abilities of the Pokemon\n",
    "- `ability_?`: Name of the Pokemon abilities\n",
    "- `ability_hidden`: Name of the hidden ability of the Pokemon if it has one\n",
    "\n",
    "#### Base stats:\n",
    "\n",
    "- `total_points`: Total number of Base Points\n",
    "- `hp`: The Base HP of the Pokemon\n",
    "- `attack`: The Base Attack of the Pokemon\n",
    "- `defense`: The Base Defense of the Pokemon\n",
    "- `sp_attack`: The Base Special Attack of the Pokemon\n",
    "- `sp_defense`: The Base Special Defense of the Pokemon\n",
    "- `speed`: The Base Speed of the Pokemon\n",
    "\n",
    "#### Training:\n",
    "\n",
    "- `catch_rate`: Catch Rate of the Pokemon\n",
    "- `base_friendship`: The Base Friendship of the Pokemon\n",
    "- `base_experience`: The Base experience of a wild Pokemon when caught\n",
    "- `growth_rate`: The Growth Rate of the Pokemon\n",
    "\n",
    "#### Breeding:\n",
    "\n",
    "- `eggtypenumber`: Number of groups where a Pokemon can hatch\n",
    "- `eggtype?`: Names of the egg groups where a Pokemon can hatch\n",
    "- `percentage_male`: The percentage of the species that are male. Blank if the Pokemon is genderless.\n",
    "- `egg_cycles`: The number of cycles (255-257 steps) required to hatch an egg of the Pokemon\n",
    "\n",
    "#### Type defenses:\n",
    "\n",
    "- `against_?`: Eighteen features that denote the amount of damage taken against an attack of a particular type"
   ]
  },
  {
   "cell_type": "code",
   "execution_count": 1,
   "id": "32e5ae83",
   "metadata": {},
   "outputs": [],
   "source": [
    "# import pandas\n",
    "import pandas as pd"
   ]
  },
  {
   "cell_type": "code",
   "execution_count": 3,
   "id": "9f036151",
   "metadata": {},
   "outputs": [
    {
     "data": {
      "text/html": [
       "<div>\n",
       "<style scoped>\n",
       "    .dataframe tbody tr th:only-of-type {\n",
       "        vertical-align: middle;\n",
       "    }\n",
       "\n",
       "    .dataframe tbody tr th {\n",
       "        vertical-align: top;\n",
       "    }\n",
       "\n",
       "    .dataframe thead th {\n",
       "        text-align: right;\n",
       "    }\n",
       "</style>\n",
       "<table border=\"1\" class=\"dataframe\">\n",
       "  <thead>\n",
       "    <tr style=\"text-align: right;\">\n",
       "      <th></th>\n",
       "      <th>pokedex_number</th>\n",
       "      <th>name</th>\n",
       "      <th>german_name</th>\n",
       "      <th>japanese_name</th>\n",
       "      <th>generation</th>\n",
       "      <th>status</th>\n",
       "      <th>species</th>\n",
       "      <th>type_number</th>\n",
       "      <th>type_1</th>\n",
       "      <th>type_2</th>\n",
       "      <th>...</th>\n",
       "      <th>against_ground</th>\n",
       "      <th>against_flying</th>\n",
       "      <th>against_psychic</th>\n",
       "      <th>against_bug</th>\n",
       "      <th>against_rock</th>\n",
       "      <th>against_ghost</th>\n",
       "      <th>against_dragon</th>\n",
       "      <th>against_dark</th>\n",
       "      <th>against_steel</th>\n",
       "      <th>against_fairy</th>\n",
       "    </tr>\n",
       "  </thead>\n",
       "  <tbody>\n",
       "    <tr>\n",
       "      <th>0</th>\n",
       "      <td>1</td>\n",
       "      <td>Bulbasaur</td>\n",
       "      <td>Bisasam</td>\n",
       "      <td>フシギダネ (Fushigidane)</td>\n",
       "      <td>1</td>\n",
       "      <td>Normal</td>\n",
       "      <td>Seed Pokémon</td>\n",
       "      <td>2</td>\n",
       "      <td>Grass</td>\n",
       "      <td>Poison</td>\n",
       "      <td>...</td>\n",
       "      <td>1.0</td>\n",
       "      <td>2.0</td>\n",
       "      <td>2.0</td>\n",
       "      <td>1.0</td>\n",
       "      <td>1.0</td>\n",
       "      <td>1.0</td>\n",
       "      <td>1.0</td>\n",
       "      <td>1.0</td>\n",
       "      <td>1.0</td>\n",
       "      <td>0.5</td>\n",
       "    </tr>\n",
       "    <tr>\n",
       "      <th>1</th>\n",
       "      <td>2</td>\n",
       "      <td>Ivysaur</td>\n",
       "      <td>Bisaknosp</td>\n",
       "      <td>フシギソウ (Fushigisou)</td>\n",
       "      <td>1</td>\n",
       "      <td>Normal</td>\n",
       "      <td>Seed Pokémon</td>\n",
       "      <td>2</td>\n",
       "      <td>Grass</td>\n",
       "      <td>Poison</td>\n",
       "      <td>...</td>\n",
       "      <td>1.0</td>\n",
       "      <td>2.0</td>\n",
       "      <td>2.0</td>\n",
       "      <td>1.0</td>\n",
       "      <td>1.0</td>\n",
       "      <td>1.0</td>\n",
       "      <td>1.0</td>\n",
       "      <td>1.0</td>\n",
       "      <td>1.0</td>\n",
       "      <td>0.5</td>\n",
       "    </tr>\n",
       "    <tr>\n",
       "      <th>2</th>\n",
       "      <td>3</td>\n",
       "      <td>Venusaur</td>\n",
       "      <td>Bisaflor</td>\n",
       "      <td>フシギバナ (Fushigibana)</td>\n",
       "      <td>1</td>\n",
       "      <td>Normal</td>\n",
       "      <td>Seed Pokémon</td>\n",
       "      <td>2</td>\n",
       "      <td>Grass</td>\n",
       "      <td>Poison</td>\n",
       "      <td>...</td>\n",
       "      <td>1.0</td>\n",
       "      <td>2.0</td>\n",
       "      <td>2.0</td>\n",
       "      <td>1.0</td>\n",
       "      <td>1.0</td>\n",
       "      <td>1.0</td>\n",
       "      <td>1.0</td>\n",
       "      <td>1.0</td>\n",
       "      <td>1.0</td>\n",
       "      <td>0.5</td>\n",
       "    </tr>\n",
       "    <tr>\n",
       "      <th>3</th>\n",
       "      <td>3</td>\n",
       "      <td>Mega Venusaur</td>\n",
       "      <td>Bisaflor</td>\n",
       "      <td>フシギバナ (Fushigibana)</td>\n",
       "      <td>1</td>\n",
       "      <td>Normal</td>\n",
       "      <td>Seed Pokémon</td>\n",
       "      <td>2</td>\n",
       "      <td>Grass</td>\n",
       "      <td>Poison</td>\n",
       "      <td>...</td>\n",
       "      <td>1.0</td>\n",
       "      <td>2.0</td>\n",
       "      <td>2.0</td>\n",
       "      <td>1.0</td>\n",
       "      <td>1.0</td>\n",
       "      <td>1.0</td>\n",
       "      <td>1.0</td>\n",
       "      <td>1.0</td>\n",
       "      <td>1.0</td>\n",
       "      <td>0.5</td>\n",
       "    </tr>\n",
       "    <tr>\n",
       "      <th>4</th>\n",
       "      <td>4</td>\n",
       "      <td>Charmander</td>\n",
       "      <td>Glumanda</td>\n",
       "      <td>ヒトカゲ (Hitokage)</td>\n",
       "      <td>1</td>\n",
       "      <td>Normal</td>\n",
       "      <td>Lizard Pokémon</td>\n",
       "      <td>1</td>\n",
       "      <td>Fire</td>\n",
       "      <td>NaN</td>\n",
       "      <td>...</td>\n",
       "      <td>2.0</td>\n",
       "      <td>1.0</td>\n",
       "      <td>1.0</td>\n",
       "      <td>0.5</td>\n",
       "      <td>2.0</td>\n",
       "      <td>1.0</td>\n",
       "      <td>1.0</td>\n",
       "      <td>1.0</td>\n",
       "      <td>0.5</td>\n",
       "      <td>0.5</td>\n",
       "    </tr>\n",
       "  </tbody>\n",
       "</table>\n",
       "<p>5 rows × 50 columns</p>\n",
       "</div>"
      ],
      "text/plain": [
       "   pokedex_number           name german_name        japanese_name  generation  \\\n",
       "0               1      Bulbasaur     Bisasam  フシギダネ (Fushigidane)           1   \n",
       "1               2        Ivysaur   Bisaknosp   フシギソウ (Fushigisou)           1   \n",
       "2               3       Venusaur    Bisaflor  フシギバナ (Fushigibana)           1   \n",
       "3               3  Mega Venusaur    Bisaflor  フシギバナ (Fushigibana)           1   \n",
       "4               4     Charmander    Glumanda      ヒトカゲ (Hitokage)           1   \n",
       "\n",
       "   status         species  type_number type_1  type_2  ...  against_ground  \\\n",
       "0  Normal    Seed Pokémon            2  Grass  Poison  ...             1.0   \n",
       "1  Normal    Seed Pokémon            2  Grass  Poison  ...             1.0   \n",
       "2  Normal    Seed Pokémon            2  Grass  Poison  ...             1.0   \n",
       "3  Normal    Seed Pokémon            2  Grass  Poison  ...             1.0   \n",
       "4  Normal  Lizard Pokémon            1   Fire     NaN  ...             2.0   \n",
       "\n",
       "   against_flying  against_psychic against_bug against_rock against_ghost  \\\n",
       "0             2.0              2.0         1.0          1.0           1.0   \n",
       "1             2.0              2.0         1.0          1.0           1.0   \n",
       "2             2.0              2.0         1.0          1.0           1.0   \n",
       "3             2.0              2.0         1.0          1.0           1.0   \n",
       "4             1.0              1.0         0.5          2.0           1.0   \n",
       "\n",
       "   against_dragon  against_dark  against_steel  against_fairy  \n",
       "0             1.0           1.0            1.0            0.5  \n",
       "1             1.0           1.0            1.0            0.5  \n",
       "2             1.0           1.0            1.0            0.5  \n",
       "3             1.0           1.0            1.0            0.5  \n",
       "4             1.0           1.0            0.5            0.5  \n",
       "\n",
       "[5 rows x 50 columns]"
      ]
     },
     "execution_count": 3,
     "metadata": {},
     "output_type": "execute_result"
    }
   ],
   "source": [
    "# pull in data from csv\n",
    "pokemon = pd.read_csv('pokedex_(Update_04.21).csv', index_col=0)\n",
    "# preview data\n",
    "pokemon.head()"
   ]
  },
  {
   "cell_type": "code",
   "execution_count": 5,
   "id": "20655d62",
   "metadata": {},
   "outputs": [
    {
     "data": {
      "text/plain": [
       "50"
      ]
     },
     "execution_count": 5,
     "metadata": {},
     "output_type": "execute_result"
    }
   ],
   "source": [
    "# view number of columns\n",
    "pokemon.columns.nunique()"
   ]
  },
  {
   "cell_type": "code",
   "execution_count": 6,
   "id": "239eb72d",
   "metadata": {},
   "outputs": [
    {
     "data": {
      "text/plain": [
       "Index(['pokedex_number', 'name', 'german_name', 'japanese_name', 'generation',\n",
       "       'status', 'species', 'type_number', 'type_1', 'type_2', 'height_m',\n",
       "       'weight_kg', 'abilities_number', 'ability_1', 'ability_2',\n",
       "       'ability_hidden', 'total_points', 'hp', 'attack', 'defense',\n",
       "       'sp_attack', 'sp_defense', 'speed', 'catch_rate', 'base_friendship',\n",
       "       'base_experience', 'growth_rate', 'egg_type_number', 'egg_type_1',\n",
       "       'egg_type_2', 'percentage_male', 'egg_cycles', 'against_normal',\n",
       "       'against_fire', 'against_water', 'against_electric', 'against_grass',\n",
       "       'against_ice', 'against_fight', 'against_poison', 'against_ground',\n",
       "       'against_flying', 'against_psychic', 'against_bug', 'against_rock',\n",
       "       'against_ghost', 'against_dragon', 'against_dark', 'against_steel',\n",
       "       'against_fairy'],\n",
       "      dtype='object')"
      ]
     },
     "execution_count": 6,
     "metadata": {},
     "output_type": "execute_result"
    }
   ],
   "source": [
    "# view column names\n",
    "pokemon.columns"
   ]
  },
  {
   "cell_type": "markdown",
   "id": "020901d3",
   "metadata": {},
   "source": [
    "Right off the bat, I know I won't be using some of these columns for this initial project. I intend to drop `german_name` and `japanese_name`, and will most likely not use these in any of my initial projects with this dataset."
   ]
  },
  {
   "cell_type": "code",
   "execution_count": 7,
   "id": "c26741a5",
   "metadata": {},
   "outputs": [
    {
     "data": {
      "text/plain": [
       "Index(['pokedex_number', 'name', 'generation', 'status', 'species',\n",
       "       'type_number', 'type_1', 'type_2', 'height_m', 'weight_kg',\n",
       "       'abilities_number', 'ability_1', 'ability_2', 'ability_hidden',\n",
       "       'total_points', 'hp', 'attack', 'defense', 'sp_attack', 'sp_defense',\n",
       "       'speed', 'catch_rate', 'base_friendship', 'base_experience',\n",
       "       'growth_rate', 'egg_type_number', 'egg_type_1', 'egg_type_2',\n",
       "       'percentage_male', 'egg_cycles', 'against_normal', 'against_fire',\n",
       "       'against_water', 'against_electric', 'against_grass', 'against_ice',\n",
       "       'against_fight', 'against_poison', 'against_ground', 'against_flying',\n",
       "       'against_psychic', 'against_bug', 'against_rock', 'against_ghost',\n",
       "       'against_dragon', 'against_dark', 'against_steel', 'against_fairy'],\n",
       "      dtype='object')"
      ]
     },
     "execution_count": 7,
     "metadata": {},
     "output_type": "execute_result"
    }
   ],
   "source": [
    "# drop columns\n",
    "pokemon.drop(columns=['german_name', 'japanese_name'], inplace=True)\n",
    "# view remaining columns\n",
    "pokemon.columns"
   ]
  },
  {
   "cell_type": "code",
   "execution_count": 8,
   "id": "f4b3b07e",
   "metadata": {},
   "outputs": [
    {
     "data": {
      "text/plain": [
       "<AxesSubplot:>"
      ]
     },
     "execution_count": 8,
     "metadata": {},
     "output_type": "execute_result"
    },
    {
     "data": {
      "image/png": "[encoded data removed]",
      "text/plain": [
       "<Figure size 432x288 with 1 Axes>"
      ]
     },
     "metadata": {
      "needs_background": "light"
     },
     "output_type": "display_data"
    }
   ],
   "source": [
    "pokemon.generation.hist()"
   ]
  },
  {
   "cell_type": "code",
   "execution_count": 9,
   "id": "7b962892",
   "metadata": {},
   "outputs": [
    {
     "data": {
      "text/plain": [
       "Normal           918\n",
       "Sub Legendary     55\n",
       "Legendary         42\n",
       "Mythical          30\n",
       "Name: status, dtype: int64"
      ]
     },
     "execution_count": 9,
     "metadata": {},
     "output_type": "execute_result"
    }
   ],
   "source": [
    "pokemon.status.value_counts()"
   ]
  },
  {
   "cell_type": "code",
   "execution_count": 10,
   "id": "8463cb32",
   "metadata": {},
   "outputs": [
    {
     "data": {
      "text/plain": [
       "Mouse Pokémon          12\n",
       "Dragon Pokémon          9\n",
       "Fox Pokémon             9\n",
       "Pumpkin Pokémon         8\n",
       "Flame Pokémon           7\n",
       "                       ..\n",
       "Posy Picker Pokémon     1\n",
       "Key Ring Pokémon        1\n",
       "Imitation Pokémon       1\n",
       "Cotton Bird Pokémon     1\n",
       "Rock Skin Pokémon       1\n",
       "Name: species, Length: 652, dtype: int64"
      ]
     },
     "execution_count": 10,
     "metadata": {},
     "output_type": "execute_result"
    }
   ],
   "source": [
    "pokemon.species.value_counts()"
   ]
  },
  {
   "cell_type": "code",
   "execution_count": 11,
   "id": "a221c15a",
   "metadata": {},
   "outputs": [
    {
     "data": {
      "text/plain": [
       "2    553\n",
       "1    492\n",
       "Name: type_number, dtype: int64"
      ]
     },
     "execution_count": 11,
     "metadata": {},
     "output_type": "execute_result"
    }
   ],
   "source": [
    "pokemon.type_number.value_counts()"
   ]
  },
  {
   "cell_type": "code",
   "execution_count": null,
   "id": "344669f9",
   "metadata": {},
   "outputs": [],
   "source": []
  }
 ],
 "metadata": {
  "kernelspec": {
   "display_name": "Python 3",
   "language": "python",
   "name": "python3"
  },
  "language_info": {
   "codemirror_mode": {
    "name": "ipython",
    "version": 3
   },
   "file_extension": ".py",
   "mimetype": "text/x-python",
   "name": "python",
   "nbconvert_exporter": "python",
   "pygments_lexer": "ipython3",
   "version": "3.8.8"
  }
 },
 "nbformat": 4,
 "nbformat_minor": 5
}
